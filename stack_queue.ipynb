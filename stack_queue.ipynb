{
 "cells": [
  {
   "cell_type": "code",
   "execution_count": 13,
   "id": "df39d471",
   "metadata": {},
   "outputs": [],
   "source": []
  },
  {
   "cell_type": "code",
   "execution_count": 16,
   "id": "d82a5db2",
   "metadata": {},
   "outputs": [
    {
     "name": "stdout",
     "output_type": "stream",
     "text": [
      "[4, 40, 14, 24]\n",
      "[4, 40, 14]\n",
      "[4, 40]\n"
     ]
    }
   ],
   "source": [
    "list1 = []\n",
    "list1.append(4)\n",
    "list1.append(40)\n",
    "list1.append(14)\n",
    "list1.append(24)\n",
    "print(list1)\n",
    "list1.pop()\n",
    "print(list1)\n",
    "list1.pop()\n",
    "print(list1)"
   ]
  },
  {
   "cell_type": "code",
   "execution_count": 11,
   "id": "26cfd0cc",
   "metadata": {},
   "outputs": [
    {
     "data": {
      "text/plain": [
       "[4, 40]"
      ]
     },
     "execution_count": 11,
     "metadata": {},
     "output_type": "execute_result"
    }
   ],
   "source": [
    "list1"
   ]
  },
  {
   "cell_type": "code",
   "execution_count": 32,
   "id": "2d8ca301",
   "metadata": {},
   "outputs": [],
   "source": [
    "class stack:\n",
    "    def __init__(self):\n",
    "        self.data = []\n",
    "    def add(self,data):\n",
    "        return self.data.append(data)\n",
    "    def Pop(self):\n",
    "        return self.data.pop()\n",
    "    "
   ]
  },
  {
   "cell_type": "code",
   "execution_count": 33,
   "id": "e33940c9",
   "metadata": {},
   "outputs": [],
   "source": [
    "my_stack = stack()\n",
    "my_stack.add(23)\n",
    "my_stack.add(29)\n",
    "my_stack.add(32)\n",
    "whatpopped = my_stack.Pop()"
   ]
  },
  {
   "cell_type": "code",
   "execution_count": 38,
   "id": "b082630d",
   "metadata": {},
   "outputs": [
    {
     "name": "stdout",
     "output_type": "stream",
     "text": [
      "[23, 29]\n"
     ]
    }
   ],
   "source": [
    "print(my_stack.data)"
   ]
  },
  {
   "cell_type": "code",
   "execution_count": 35,
   "id": "bbe3ae6e",
   "metadata": {},
   "outputs": [
    {
     "name": "stdout",
     "output_type": "stream",
     "text": [
      "32\n"
     ]
    }
   ],
   "source": [
    "print(whatpopped)"
   ]
  },
  {
   "cell_type": "code",
   "execution_count": 42,
   "id": "0890faa4",
   "metadata": {},
   "outputs": [
    {
     "name": "stdout",
     "output_type": "stream",
     "text": [
      "[22, 23]\n"
     ]
    }
   ],
   "source": [
    "class queue:\n",
    "    def __init__(self):\n",
    "        self.data = []\n",
    "        #return data\n",
    "    \n",
    "    def add(self,data):\n",
    "        self.data.append(data)\n",
    "    \n",
    "    def out(self):\n",
    "        self.data.pop(0)\n",
    "        \n",
    "my_queue = queue()\n",
    "my_queue.add(21)\n",
    "my_queue.add(22)\n",
    "my_queue.add(23)\n",
    "my_queue.out()\n",
    "print(my_queue.data)"
   ]
  },
  {
   "cell_type": "code",
   "execution_count": null,
   "id": "4686a66e",
   "metadata": {},
   "outputs": [],
   "source": []
  }
 ],
 "metadata": {
  "kernelspec": {
   "display_name": "Python 3 (ipykernel)",
   "language": "python",
   "name": "python3"
  },
  "language_info": {
   "codemirror_mode": {
    "name": "ipython",
    "version": 3
   },
   "file_extension": ".py",
   "mimetype": "text/x-python",
   "name": "python",
   "nbconvert_exporter": "python",
   "pygments_lexer": "ipython3",
   "version": "3.11.5"
  }
 },
 "nbformat": 4,
 "nbformat_minor": 5
}
